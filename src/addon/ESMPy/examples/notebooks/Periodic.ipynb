{
 "cells": [
  {
   "cell_type": "markdown",
   "metadata": {},
   "source": [
    "# ESMPy Periodic Grid Test\n"
   ]
  },
  {
   "cell_type": "code",
   "execution_count": 1,
   "metadata": {
    "collapsed": true
   },
   "outputs": [],
   "source": [
    "%matplotlib inline\n",
    "import numpy as np\n",
    "import matplotlib.pyplot as plt\n",
    "import ESMF"
   ]
  },
  {
   "cell_type": "markdown",
   "metadata": {},
   "source": [
    "## Background\n",
    "From [ESMPy documentation](http://www.earthsystemmodeling.org/esmf_releases/public/ESMF_8_0_1/esmpy_doc/html/grid.html), we should be able to set periodic dimension\n",
    "```\n",
    "num_peri_dims (int) – The number of periodic dimensions, either 0 or 1. If None, defaults to 0.\n",
    "periodic_dim (int) – The periodic dimension: 0, 1 or 2. If None, defaults to 0.\n",
    "pole_dim (int) – The pole dimension 0 or 1. If None, defaults to 1.\n",
    "```"
   ]
  },
  {
   "cell_type": "markdown",
   "metadata": {},
   "source": [
    "## Make fake grid\n",
    "Assume both input and output grids are periodic in longitude. Make sure to map the centers of the grid cells in both latitude and longitude."
   ]
  },
  {
   "cell_type": "code",
   "execution_count": 2,
   "metadata": {},
   "outputs": [
    {
     "data": {
      "text/plain": [
       "(array([-175., -165., -155., -145., -135., -125., -115., -105.,  -95.,\n",
       "         -85.,  -75.,  -65.,  -55.,  -45.,  -35.,  -25.,  -15.,   -5.,\n",
       "           5.,   15.,   25.,   35.,   45.,   55.,   65.,   75.,   85.,\n",
       "          95.,  105.,  115.,  125.,  135.,  145.,  155.,  165.,  175.]),\n",
       " array([-88., -84., -80., -76., -72., -68., -64., -60., -56., -52., -48.,\n",
       "        -44., -40., -36., -32., -28., -24., -20., -16., -12.,  -8.,  -4.,\n",
       "          0.,   4.,   8.,  12.,  16.,  20.,  24.,  28.,  32.,  36.,  40.,\n",
       "         44.,  48.,  52.,  56.,  60.,  64.,  68.,  72.,  76.,  80.,  84.,\n",
       "         88.]))"
      ]
     },
     "execution_count": 2,
     "metadata": {},
     "output_type": "execute_result"
    }
   ],
   "source": [
    "lon_in = np.arange(-175, 175.1, 10)\n",
    "lat_in = np.arange(-88, 88.1, 4)\n",
    "lon_in, lat_in"
   ]
  },
  {
   "cell_type": "code",
   "execution_count": 3,
   "metadata": {},
   "outputs": [
    {
     "data": {
      "text/plain": [
       "(array([-177.5, -172.5, -167.5, -162.5, -157.5, -152.5, -147.5, -142.5,\n",
       "        -137.5, -132.5, -127.5, -122.5, -117.5, -112.5, -107.5, -102.5,\n",
       "         -97.5,  -92.5,  -87.5,  -82.5,  -77.5,  -72.5,  -67.5,  -62.5,\n",
       "         -57.5,  -52.5,  -47.5,  -42.5,  -37.5,  -32.5,  -27.5,  -22.5,\n",
       "         -17.5,  -12.5,   -7.5,   -2.5,    2.5,    7.5,   12.5,   17.5,\n",
       "          22.5,   27.5,   32.5,   37.5,   42.5,   47.5,   52.5,   57.5,\n",
       "          62.5,   67.5,   72.5,   77.5,   82.5,   87.5,   92.5,   97.5,\n",
       "         102.5,  107.5,  112.5,  117.5,  122.5,  127.5,  132.5,  137.5,\n",
       "         142.5,  147.5,  152.5,  157.5,  162.5,  167.5,  172.5,  177.5]),\n",
       " array([-88., -84., -80., -76., -72., -68., -64., -60., -56., -52., -48.,\n",
       "        -44., -40., -36., -32., -28., -24., -20., -16., -12.,  -8.,  -4.,\n",
       "          0.,   4.,   8.,  12.,  16.,  20.,  24.,  28.,  32.,  36.,  40.,\n",
       "         44.,  48.,  52.,  56.,  60.,  64.,  68.,  72.,  76.,  80.,  84.,\n",
       "         88.]))"
      ]
     },
     "execution_count": 3,
     "metadata": {},
     "output_type": "execute_result"
    }
   ],
   "source": [
    "lon_out = np.arange(-177.5, 177.5 + 0.1, 5)\n",
    "lat_out = np.arange(-88, 88.1, 4)\n",
    "lon_out, lat_out"
   ]
  },
  {
   "cell_type": "markdown",
   "metadata": {},
   "source": [
    "## Create Grid & Regrid object"
   ]
  },
  {
   "cell_type": "code",
   "execution_count": 4,
   "metadata": {
    "collapsed": true
   },
   "outputs": [],
   "source": [
    "sourcegrid = ESMF.Grid(np.array([lon_in.size, lat_in.size]), \n",
    "                       staggerloc = [ESMF.StaggerLoc.CENTER],\n",
    "                       coord_sys = ESMF.CoordSys.SPH_DEG,\n",
    "                       num_peri_dims = 1)\n",
    "\n",
    "source_lon = sourcegrid.get_coords(0)\n",
    "source_lat = sourcegrid.get_coords(1)\n",
    "\n",
    "source_lon[...], source_lat[...] = np.meshgrid(lon_in, lat_in, indexing='ij')"
   ]
  },
  {
   "cell_type": "code",
   "execution_count": 5,
   "metadata": {},
   "outputs": [
    {
     "data": {
      "text/plain": [
       "0"
      ]
     },
     "execution_count": 5,
     "metadata": {},
     "output_type": "execute_result"
    }
   ],
   "source": [
    "sourcegrid.periodic_dim"
   ]
  },
  {
   "cell_type": "code",
   "execution_count": 6,
   "metadata": {
    "collapsed": true
   },
   "outputs": [],
   "source": [
    "destgrid = ESMF.Grid(np.array([lon_out.size, lat_out.size]), \n",
    "                       staggerloc = [ESMF.StaggerLoc.CENTER],\n",
    "                       coord_sys = ESMF.CoordSys.SPH_DEG,\n",
    "                       num_peri_dims = 1)\n",
    "\n",
    "\n",
    "dest_lon = destgrid.get_coords(0)\n",
    "dest_lat = destgrid.get_coords(1)\n",
    "\n",
    "dest_lon[...], dest_lat[...] = np.meshgrid(lon_out, lat_out, indexing='ij')"
   ]
  },
  {
   "cell_type": "code",
   "execution_count": 7,
   "metadata": {
    "collapsed": true
   },
   "outputs": [],
   "source": [
    "sourcefield = ESMF.Field(sourcegrid)\n",
    "destfield = ESMF.Field(destgrid)"
   ]
  },
  {
   "cell_type": "code",
   "execution_count": 8,
   "metadata": {},
   "outputs": [],
   "source": [
    "regrid_bi = ESMF.Regrid(sourcefield, destfield, \n",
    "                        regrid_method = ESMF.RegridMethod.BILINEAR,  \n",
    "                        unmapped_action = ESMF.UnmappedAction.ERROR)"
   ]
  },
  {
   "cell_type": "markdown",
   "metadata": {},
   "source": [
    "## Make input data"
   ]
  },
  {
   "cell_type": "code",
   "execution_count": 9,
   "metadata": {
    "collapsed": true
   },
   "outputs": [],
   "source": [
    "wave = lambda x,k:  np.sin(x*k*np.pi/180.0)\n",
    "sourcefield.data[...] = np.outer(wave(lon_in,3), wave(lat_in,3)) + 1"
   ]
  },
  {
   "cell_type": "markdown",
   "metadata": {},
   "source": [
    "## Apply regridding"
   ]
  },
  {
   "cell_type": "code",
   "execution_count": 10,
   "metadata": {
    "collapsed": true
   },
   "outputs": [],
   "source": [
    "destfield = regrid_bi(sourcefield, destfield)"
   ]
  },
  {
   "cell_type": "code",
   "execution_count": 11,
   "metadata": {},
   "outputs": [
    {
     "data": {
      "text/plain": [
       "<matplotlib.colorbar.Colorbar at 0x7f189d895390>"
      ]
     },
     "execution_count": 11,
     "metadata": {},
     "output_type": "execute_result"
    },
    {
     "data": {
      "image/png": "[encoded data removed]",
      "text/plain": [
       "<matplotlib.figure.Figure at 0x7f18a0c74250>"
      ]
     },
     "metadata": {},
     "output_type": "display_data"
    }
   ],
   "source": [
    "fig = plt.figure(1, (15, 6))\n",
    "fig.suptitle('ESMPy Periodic Grids', fontsize=14, fontweight='bold')\n",
    "\n",
    "ax = fig.add_subplot(1, 2, 1)\n",
    "im = ax.imshow(sourcefield.data, vmin=0, vmax=2, cmap='gist_ncar', aspect='auto',\n",
    "               extent=[min(lon_in), max(lon_in), min(lat_in), max(lat_in)])\n",
    "ax.set_xbound(lower=min(lon_in), upper=max(lon_in))\n",
    "ax.set_ybound(lower=min(lat_in), upper=max(lat_in))\n",
    "ax.set_xlabel(\"Longitude\")\n",
    "ax.set_ylabel(\"Latitude\")\n",
    "ax.set_title(\"Source Data\")\n",
    "\n",
    "ax = fig.add_subplot(1, 2, 2)\n",
    "im = ax.imshow(destfield.data, vmin=0, vmax=2, cmap='gist_ncar', aspect='auto',\n",
    "               extent=[min(lon_out), max(lon_out), min(lat_out), max(lat_out)])\n",
    "ax.set_xlabel(\"Longitude\")\n",
    "ax.set_ylabel(\"Latitude\")\n",
    "ax.set_title(\"Regrid Solution\")\n",
    "\n",
    "fig.subplots_adjust(right=0.8)\n",
    "cbar_ax = fig.add_axes([0.9, 0.1, 0.01, 0.8])\n",
    "fig.colorbar(im, cax=cbar_ax)"
   ]
  },
  {
   "cell_type": "code",
   "execution_count": null,
   "metadata": {
    "collapsed": true
   },
   "outputs": [],
   "source": []
  }
 ],
 "metadata": {
  "kernelspec": {
   "display_name": "Python 2",
   "language": "python",
   "name": "python2"
  },
  "language_info": {
   "codemirror_mode": {
    "name": "ipython",
    "version": 2
   },
   "file_extension": ".py",
   "mimetype": "text/x-python",
   "name": "python",
   "nbconvert_exporter": "python",
   "pygments_lexer": "ipython2",
   "version": "2.7.13"
  }
 },
 "nbformat": 4,
 "nbformat_minor": 2
}
